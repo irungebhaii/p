{
 "cells": [
  {
   "cell_type": "code",
   "execution_count": 2,
   "id": "5db02b59-b437-4c60-8c1a-5c03c6d106ed",
   "metadata": {},
   "outputs": [
    {
     "name": "stdout",
     "output_type": "stream",
     "text": [
      "Original List:  [1, 2, 3, 4, 5]\n",
      "Range:  4\n",
      "Index of 1 is:  2\n",
      "Last element by negative index:  5\n",
      "Loop through list\n",
      "1\n",
      "2\n",
      "3\n",
      "4\n",
      "5\n",
      "After adding new element:  [1, 2, 3, 4, 5, 6]\n",
      "After Removed element 4:  [1, 2, 3, 5, 6]\n",
      "Deleted index 2:  [1, 2, 5, 6]\n",
      "Combined list1 and list2:  [1, 2, 3, 4, 5, 6]\n"
     ]
    }
   ],
   "source": [
    "my_list = [1,2,3,4,5]\n",
    "print(\"Original List: \", my_list)\n",
    "\n",
    "list_range = max(my_list) - min(my_list)\n",
    "print(\"Range: \",list_range)\n",
    "\n",
    "print(\"Index of 1 is: \",my_list[1])\n",
    "\n",
    "print(\"Last element by negative index: \",my_list[-1])\n",
    "\n",
    "print(\"Loop through list\")\n",
    "for i in my_list:\n",
    "    print(i)\n",
    "\n",
    "my_list.append(6)\n",
    "print(\"After adding new element: \",my_list)\n",
    "\n",
    "my_list.remove(4)\n",
    "print(\"After Removed element 4: \",my_list)\n",
    "\n",
    "del my_list[2]\n",
    "print(\"Deleted index 2: \", my_list)\n",
    "\n",
    "list1 = [1,2,3]\n",
    "list2 = [4,5,6]\n",
    "list1.extend(list2)\n",
    "print(\"Combined list1 and list2: \",list1)"
   ]
  }
 ],
 "metadata": {
  "kernelspec": {
   "display_name": "Python 3 (ipykernel)",
   "language": "python",
   "name": "python3"
  },
  "language_info": {
   "codemirror_mode": {
    "name": "ipython",
    "version": 3
   },
   "file_extension": ".py",
   "mimetype": "text/x-python",
   "name": "python",
   "nbconvert_exporter": "python",
   "pygments_lexer": "ipython3",
   "version": "3.10.5"
  }
 },
 "nbformat": 4,
 "nbformat_minor": 5
}
