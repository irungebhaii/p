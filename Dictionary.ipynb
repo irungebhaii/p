{
 "cells": [
  {
   "cell_type": "code",
   "execution_count": 5,
   "id": "e9c4f546-0cb3-41a0-a85e-284fbbcb02e4",
   "metadata": {},
   "outputs": [
    {
     "name": "stdout",
     "output_type": "stream",
     "text": [
      "Original Dictionary:  {'Name': 'John', 'Age': 22, 'City': 'PDKT'}\n",
      "Name:  John\n",
      "Looping in Dictionary:\n",
      "Name\n",
      "Age\n",
      "City\n",
      "After adding new element\n",
      "{'Name': 'John', 'Age': 22, 'City': 'PDKT', 'Gender': 'Male'}\n",
      "After removing city\n",
      "{'Name': 'John', 'Age': 22, 'Gender': 'Male'}\n",
      "Combined Dictionary\n",
      "{'Name': 'Tony', 'Degree': 'MCA', 'Profession': 'Student', 'City': 'Chennai'}\n"
     ]
    }
   ],
   "source": [
    "my_dict = {'Name':'John', 'Age':22, 'City':'PDKT'}\n",
    "print(\"Original Dictionary: \", my_dict)\n",
    "\n",
    "name = my_dict['Name']\n",
    "print(\"Name: \",name)\n",
    "\n",
    "print(\"Looping in Dictionary:\")\n",
    "for key in my_dict:\n",
    "    print(key)\n",
    "\n",
    "my_dict['Gender'] = 'Male'\n",
    "print(\"After adding new element\")\n",
    "print(my_dict)\n",
    "\n",
    "my_dict.pop('City')\n",
    "print(\"After removing city\")\n",
    "print(my_dict)\n",
    "\n",
    "dict1 = {'Name':'Tony', 'Degree':'MCA'}\n",
    "dict2 = {'Profession':'Student', 'City':'Chennai'}\n",
    "combined = dict1.copy()\n",
    "combined.update(dict2)\n",
    "print(\"Combined Dictionary\")\n",
    "print(combined)\n"
   ]
  }
 ],
 "metadata": {
  "kernelspec": {
   "display_name": "Python 3 (ipykernel)",
   "language": "python",
   "name": "python3"
  },
  "language_info": {
   "codemirror_mode": {
    "name": "ipython",
    "version": 3
   },
   "file_extension": ".py",
   "mimetype": "text/x-python",
   "name": "python",
   "nbconvert_exporter": "python",
   "pygments_lexer": "ipython3",
   "version": "3.10.5"
  }
 },
 "nbformat": 4,
 "nbformat_minor": 5
}
