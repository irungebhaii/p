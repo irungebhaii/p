{
 "cells": [
  {
   "cell_type": "code",
   "execution_count": 4,
   "id": "cfe4a26a-535d-4942-bfff-36c785368bd1",
   "metadata": {},
   "outputs": [
    {
     "name": "stdout",
     "output_type": "stream",
     "text": [
      "Fizz Buzz\n"
     ]
    },
    {
     "name": "stdin",
     "output_type": "stream",
     "text": [
      "Enter a number:  10\n"
     ]
    },
    {
     "name": "stdout",
     "output_type": "stream",
     "text": [
      "0Fizz Buzz\n",
      "1\n",
      "2\n",
      "3Fizz\n",
      "4\n",
      "5Buzz\n",
      "6Fizz\n",
      "7\n",
      "8\n",
      "9Fizz\n",
      "10Buzz\n"
     ]
    }
   ],
   "source": [
    "print(\"Fizz Buzz\")\n",
    "n1 = input(\"Enter a number: \")\n",
    "n = int(n1)\n",
    "i = 1\n",
    "for i in range (n+1):\n",
    "    if(i%3 == 0 and i%5 == 0):\n",
    "        print(str(i) + \"Fizz Buzz\")\n",
    "    elif(i%3 == 0):\n",
    "        print(str(i) + \"Fizz\")\n",
    "    elif(i%5 == 0):\n",
    "        print(str(i) + \"Buzz\")\n",
    "    else:\n",
    "        print(i)"
   ]
  }
 ],
 "metadata": {
  "kernelspec": {
   "display_name": "Python 3 (ipykernel)",
   "language": "python",
   "name": "python3"
  },
  "language_info": {
   "codemirror_mode": {
    "name": "ipython",
    "version": 3
   },
   "file_extension": ".py",
   "mimetype": "text/x-python",
   "name": "python",
   "nbconvert_exporter": "python",
   "pygments_lexer": "ipython3",
   "version": "3.10.5"
  }
 },
 "nbformat": 4,
 "nbformat_minor": 5
}
