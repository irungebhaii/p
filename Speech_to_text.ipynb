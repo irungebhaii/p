{
 "cells": [
  {
   "cell_type": "code",
   "execution_count": 3,
   "id": "88bbbd05-b017-4140-ad9f-6dba45aed74e",
   "metadata": {},
   "outputs": [
    {
     "name": "stdout",
     "output_type": "stream",
     "text": [
      "The audio file contains: the still smell of old buildings it takes heat to bring out the order a cold storage find with him tacos Alpha store are my favourite is just for food is the hard cross bun\n"
     ]
    }
   ],
   "source": [
    "import speech_recognition as sr\n",
    "AUDIO_FILE = (\"harvard.wav\")\n",
    "r = sr.Recognizer()\n",
    "with sr.AudioFile(AUDIO_FILE) as source:\n",
    "    audio = r.record(source)\n",
    "try:\n",
    "    print(\"The audio file contains: \"+ r.recognize_google(audio))\n",
    "except sr.UnkownValueError:\n",
    "    print(\"The google recognition couldn't understand the audio file\")\n",
    "except sr.RequestError:\n",
    "    print(\"The google recognizer couldn't understand the result\")"
   ]
  }
 ],
 "metadata": {
  "kernelspec": {
   "display_name": "Python 3 (ipykernel)",
   "language": "python",
   "name": "python3"
  },
  "language_info": {
   "codemirror_mode": {
    "name": "ipython",
    "version": 3
   },
   "file_extension": ".py",
   "mimetype": "text/x-python",
   "name": "python",
   "nbconvert_exporter": "python",
   "pygments_lexer": "ipython3",
   "version": "3.10.5"
  }
 },
 "nbformat": 4,
 "nbformat_minor": 5
}
