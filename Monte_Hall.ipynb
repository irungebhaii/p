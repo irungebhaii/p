{
 "cells": [
  {
   "cell_type": "code",
   "execution_count": null,
   "id": "79901d72-5fbb-4d13-88f8-c94364c336e9",
   "metadata": {},
   "outputs": [
    {
     "name": "stdin",
     "output_type": "stream",
     "text": [
      "Enter your choice: 0,1,2:  0\n",
      "Do you want to swap? y/n:  n\n"
     ]
    },
    {
     "name": "stdout",
     "output_type": "stream",
     "text": [
      "Player lost\n"
     ]
    }
   ],
   "source": [
    "import random\n",
    "doors = [0]*3\n",
    "goatdoor = []*2\n",
    "swap = 0\n",
    "dont_swap = 0\n",
    "j = 0\n",
    "while(j<5):\n",
    "    x = random.randint(0,2)\n",
    "    doors[x] = \"BMW\"\n",
    "    for i in range (0,3):\n",
    "        if(i == x):\n",
    "            continue\n",
    "        else:\n",
    "            doors[i] = \"GOAT\"\n",
    "            goatdoor.append(i)\n",
    "    choice = int(input(\"Enter your choice: 0,1,2: \"))\n",
    "    door_open = random.choice(goatdoor)\n",
    "    while(door_open == choice):\n",
    "        door_open = random.choice(goatdoor)\n",
    "        ch = input(\"Do you want to swap? y/n: \")\n",
    "        if(ch == 'y'):\n",
    "            if(doors[choice] == \"GOAT\"):\n",
    "                print(\"Player wins\")\n",
    "                swap = swap + 1\n",
    "            else:\n",
    "                print(\"Player lost\")\n",
    "        else:\n",
    "            if(doors[choice] == \"GOAT\"):\n",
    "                print(\"Player lost\")\n",
    "            else:\n",
    "                print(\"Player wins\")\n",
    "                dont_swap = dont_swap + 1\n",
    "    j = j + 1\n",
    "print(\"No. of Swap: \",swap)\n",
    "print(\"No. of Don't swap: \",dont_swap)"
   ]
  }
 ],
 "metadata": {
  "kernelspec": {
   "display_name": "Python 3 (ipykernel)",
   "language": "python",
   "name": "python3"
  },
  "language_info": {
   "codemirror_mode": {
    "name": "ipython",
    "version": 3
   },
   "file_extension": ".py",
   "mimetype": "text/x-python",
   "name": "python",
   "nbconvert_exporter": "python",
   "pygments_lexer": "ipython3",
   "version": "3.10.5"
  }
 },
 "nbformat": 4,
 "nbformat_minor": 5
}
