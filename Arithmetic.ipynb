{
 "cells": [
  {
   "cell_type": "code",
   "execution_count": 17,
   "id": "a7604db4-ef7f-4ff7-8695-9bf367ec8cff",
   "metadata": {},
   "outputs": [
    {
     "name": "stdout",
     "output_type": "stream",
     "text": [
      "Choice 1:Add, 2:Sub, 3:Mult, 4:Div, 5:Quit\n"
     ]
    },
    {
     "name": "stdin",
     "output_type": "stream",
     "text": [
      "Enter your choice:  5\n"
     ]
    },
    {
     "name": "stdout",
     "output_type": "stream",
     "text": [
      "Quiting.....\n"
     ]
    }
   ],
   "source": [
    "print(\"Choice 1:Add, 2:Sub, 3:Mult, 4:Div, 5:Quit\")\n",
    "n1 = input(\"Enter your choice: \")\n",
    "n = int(n1)\n",
    "if(n == 1):\n",
    "    print(\"You have choosen Addition\")\n",
    "    a1 = input(\"Enter a first number: \")\n",
    "    a = int(a1)\n",
    "    b1 = input(\"Enter a second number: \")\n",
    "    b = int(b1)\n",
    "    c = a + b\n",
    "    print(\"Result of\",a,\"+\",b,\"=\",c)\n",
    "elif(n == 2):\n",
    "    print(\"You have choosen Subtraction\")\n",
    "    a1 = input(\"Enter a first number: \")\n",
    "    a = int(a1)\n",
    "    b1 = input(\"Enter a second number: \")\n",
    "    b = int(b1)\n",
    "    c = a - b\n",
    "    print(\"Result of\",a,\"-\",b,\"=\",c)\n",
    "elif(n == 3):\n",
    "    print(\"You have choosen Multiplication\")\n",
    "    a1 = input(\"Enter a first number: \")\n",
    "    a = int(a1)\n",
    "    b1 = input(\"Enter a second number: \")\n",
    "    b = int(b1)\n",
    "    c = a * b\n",
    "    print(\"Result of\",a,\"*\",b,\"=\",c)\n",
    "elif(n == 4):\n",
    "    print(\"You have choosen Divition\")\n",
    "    a1 = input(\"Enter a first number: \")\n",
    "    a = int(a1)\n",
    "    b1 = input(\"Enter a second number: \")\n",
    "    b = int(b1)\n",
    "    c = a / b\n",
    "    print(\"Result of\",a,\"/\",b,\"=\",c)\n",
    "elif(n == 5):\n",
    "    print(\"Quiting.....\")\n",
    "    exit()"
   ]
  }
 ],
 "metadata": {
  "kernelspec": {
   "display_name": "Python 3 (ipykernel)",
   "language": "python",
   "name": "python3"
  },
  "language_info": {
   "codemirror_mode": {
    "name": "ipython",
    "version": 3
   },
   "file_extension": ".py",
   "mimetype": "text/x-python",
   "name": "python",
   "nbconvert_exporter": "python",
   "pygments_lexer": "ipython3",
   "version": "3.10.5"
  }
 },
 "nbformat": 4,
 "nbformat_minor": 5
}
