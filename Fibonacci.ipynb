{
 "cells": [
  {
   "cell_type": "code",
   "execution_count": 9,
   "id": "73cdb1f2-c45a-4cad-a500-428df1b6bbae",
   "metadata": {},
   "outputs": [
    {
     "name": "stdout",
     "output_type": "stream",
     "text": [
      "Fibonacci Series\n"
     ]
    },
    {
     "name": "stdin",
     "output_type": "stream",
     "text": [
      "Enter a number:  1\n"
     ]
    },
    {
     "name": "stdout",
     "output_type": "stream",
     "text": [
      "**********\n",
      "0\n",
      "1\n"
     ]
    }
   ],
   "source": [
    "print(\"Fibonacci Series\")\n",
    "n1 = input(\"Enter a number: \")\n",
    "n = int(n1)\n",
    "if(n > 0):\n",
    "    f = 0\n",
    "    s = 1\n",
    "    i = 0\n",
    "    next = 0\n",
    "    while(1):\n",
    "        print(\"**********\")\n",
    "        for i in range(n+1):\n",
    "            if(i <= 1):\n",
    "                print(i)\n",
    "            else:\n",
    "                next = f + s\n",
    "                f = s\n",
    "                s = next\n",
    "                print(next)\n",
    "        i = i + 1\n",
    "        break\n",
    "else:\n",
    "    print(\"Number must be Positive!\")"
   ]
  }
 ],
 "metadata": {
  "kernelspec": {
   "display_name": "Python 3 (ipykernel)",
   "language": "python",
   "name": "python3"
  },
  "language_info": {
   "codemirror_mode": {
    "name": "ipython",
    "version": 3
   },
   "file_extension": ".py",
   "mimetype": "text/x-python",
   "name": "python",
   "nbconvert_exporter": "python",
   "pygments_lexer": "ipython3",
   "version": "3.10.5"
  }
 },
 "nbformat": 4,
 "nbformat_minor": 5
}
