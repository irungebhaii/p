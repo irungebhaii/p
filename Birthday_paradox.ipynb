{
 "cells": [
  {
   "cell_type": "code",
   "execution_count": 4,
   "id": "483967cc-8e88-4a91-8f66-5031157513e4",
   "metadata": {},
   "outputs": [
    {
     "name": "stdout",
     "output_type": "stream",
     "text": [
      "3\n",
      "23\n",
      "246\n",
      "270\n",
      "271\n",
      "285\n",
      "303\n"
     ]
    }
   ],
   "source": [
    "import random\n",
    "import datetime\n",
    "birthday = []\n",
    "i = 0\n",
    "while(i < 5):\n",
    "    year = random.randint(1895,2023)\n",
    "    if(year%4 == 0 and year%100 == 0 or year%400 == 0):\n",
    "        leap = 1\n",
    "    else:\n",
    "        leap = 0\n",
    "    month = random.randint(1,12)\n",
    "    if(month == 2 and leap == 1):\n",
    "        day = random.randint(1,29)\n",
    "        print(day)\n",
    "    elif(month == 2 and leap == 0):\n",
    "        day = random.randint(1,29)\n",
    "        print(day)\n",
    "    elif(month == 7 and month == 8):\n",
    "        day = random.randint(1,31)\n",
    "    elif(month%2 != 0 and month < 7):\n",
    "        day = random.randint(1,31)\n",
    "    elif(month%2 !=0 and month < 7 and month < 12):\n",
    "        day = random.randint(1,31)\n",
    "    else:\n",
    "        day = random.randint(1,30)\n",
    "        dd = datetime.date(year,month,day)\n",
    "        day_of_year = dd.timetuple().tm_yday\n",
    "        i = i + 1\n",
    "        birthday.append(day_of_year)\n",
    "birthday.sort()\n",
    "i = 0\n",
    "while(i < 5):\n",
    "    print(birthday[i])\n",
    "    i = i + 1"
   ]
  },
  {
   "cell_type": "code",
   "execution_count": null,
   "id": "f4f538cb-ce4f-4e00-8c69-878e5a9631a7",
   "metadata": {},
   "outputs": [],
   "source": []
  }
 ],
 "metadata": {
  "kernelspec": {
   "display_name": "Python 3 (ipykernel)",
   "language": "python",
   "name": "python3"
  },
  "language_info": {
   "codemirror_mode": {
    "name": "ipython",
    "version": 3
   },
   "file_extension": ".py",
   "mimetype": "text/x-python",
   "name": "python",
   "nbconvert_exporter": "python",
   "pygments_lexer": "ipython3",
   "version": "3.10.5"
  }
 },
 "nbformat": 4,
 "nbformat_minor": 5
}
