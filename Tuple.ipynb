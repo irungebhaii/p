{
 "cells": [
  {
   "cell_type": "code",
   "execution_count": 2,
   "id": "92c962c9-76ff-4c08-ad4b-a3b240310f57",
   "metadata": {},
   "outputs": [
    {
     "name": "stdout",
     "output_type": "stream",
     "text": [
      "Original Tuple:  (10, 20, 30, 40, 50)\n",
      "Range of (Index 1 to 4): (20, 30, 40, 50)\n",
      "Element in Index 2:  30\n",
      "Last Element by Negative index: 50\n",
      "Loop through tuple\n",
      "10\n",
      "20\n",
      "30\n",
      "40\n",
      "50\n",
      "Combined two tuple:  (1, 2, 3, 4, 5, 6)\n"
     ]
    }
   ],
   "source": [
    "my_tuple = (10,20,30,40,50)\n",
    "print(\"Original Tuple: \", my_tuple)\n",
    "\n",
    "print(\"Range of (Index 1 to 4):\", my_tuple[1:5])\n",
    "\n",
    "element = my_tuple[2]\n",
    "print(\"Element in Index 2: \", element)\n",
    "\n",
    "element = my_tuple[-1]\n",
    "print(\"Last Element by Negative index:\",element)\n",
    "\n",
    "print(\"Loop through tuple\")\n",
    "for item in my_tuple:\n",
    "    print(item)\n",
    "\n",
    "tuple1 = (1,2,3)\n",
    "tuple2 = (4,5,6)\n",
    "combined = tuple1 + tuple2\n",
    "print(\"Combined two tuple: \",combined)"
   ]
  }
 ],
 "metadata": {
  "kernelspec": {
   "display_name": "Python 3 (ipykernel)",
   "language": "python",
   "name": "python3"
  },
  "language_info": {
   "codemirror_mode": {
    "name": "ipython",
    "version": 3
   },
   "file_extension": ".py",
   "mimetype": "text/x-python",
   "name": "python",
   "nbconvert_exporter": "python",
   "pygments_lexer": "ipython3",
   "version": "3.10.5"
  }
 },
 "nbformat": 4,
 "nbformat_minor": 5
}
