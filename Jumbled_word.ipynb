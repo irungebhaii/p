{
 "cells": [
  {
   "cell_type": "code",
   "execution_count": 1,
   "id": "d50f5f84-e8b9-4062-996d-bda3804b48a6",
   "metadata": {},
   "outputs": [
    {
     "name": "stdin",
     "output_type": "stream",
     "text": [
      "Enter the name of the Player 1:  Abdul\n",
      "Enter the name of the Player 2:  Nav\n"
     ]
    },
    {
     "name": "stdout",
     "output_type": "stream",
     "text": [
      "\n",
      "\n",
      "\t\t The Question is:  deievc\n",
      "\n",
      "\n",
      "\t\t Nav Your Turn\n"
     ]
    },
    {
     "name": "stdin",
     "output_type": "stream",
     "text": [
      "Enter your answer:  device\n"
     ]
    },
    {
     "name": "stdout",
     "output_type": "stream",
     "text": [
      "Question was:  deievc\n",
      "Answer given was:  device\n",
      "You have given right answer, Congratulations!\n",
      "\n",
      "\n",
      "\t\t The Question is:  bileom\n",
      "\n",
      "\n",
      "\t\t The Question is:  ysmest\n",
      "\n",
      "\n",
      "\t\t Nav Your Turn\n"
     ]
    },
    {
     "name": "stdin",
     "output_type": "stream",
     "text": [
      "Enter your answer:  system\n"
     ]
    },
    {
     "name": "stdout",
     "output_type": "stream",
     "text": [
      "Question was:  ysmest\n",
      "Answer given was:  system\n",
      "You have given right answer, Congratulations!\n",
      "\n",
      "\n",
      "\t\t The Question is:  mlboie\n",
      "\n",
      "\n",
      "\t\t The Question is:  atryebt\n",
      "\n",
      "\n",
      "\t\t Nav Your Turn\n"
     ]
    },
    {
     "name": "stdin",
     "output_type": "stream",
     "text": [
      "Enter your answer:  btr\n"
     ]
    },
    {
     "name": "stdout",
     "output_type": "stream",
     "text": [
      "Your answer is wrong, Better luck next time!\n"
     ]
    },
    {
     "name": "stdin",
     "output_type": "stream",
     "text": [
      "Pick 1 to continue or 0 to quit 1\n"
     ]
    },
    {
     "name": "stdout",
     "output_type": "stream",
     "text": [
      "\n",
      "\n",
      "\t\t Abdul Your Turn\n"
     ]
    },
    {
     "name": "stdin",
     "output_type": "stream",
     "text": [
      "Enter your answer:  battery\n"
     ]
    },
    {
     "name": "stdout",
     "output_type": "stream",
     "text": [
      "Question was:  atryebt\n",
      "Answer given was:  battery\n",
      "You have given right answer, Congratulations!\n",
      "\n",
      "\n",
      "\t\t The Question is:  atytbre\n",
      "\n",
      "\n",
      "\t\t The Question is:  eeivdc\n",
      "\n",
      "\n",
      "\t\t Nav Your Turn\n"
     ]
    },
    {
     "name": "stdin",
     "output_type": "stream",
     "text": [
      "Enter your answer:  sre\n"
     ]
    },
    {
     "name": "stdout",
     "output_type": "stream",
     "text": [
      "Your answer is wrong, Better luck next time!\n"
     ]
    },
    {
     "name": "stdin",
     "output_type": "stream",
     "text": [
      "Pick 1 to continue or 0 to quit 0\n"
     ]
    },
    {
     "name": "stdout",
     "output_type": "stream",
     "text": [
      "Abdul Your Score is:  1\n",
      "Nav Your Score is:  2\n",
      "Thank you for playing\n"
     ]
    }
   ],
   "source": [
    "import random\n",
    "def choose():\n",
    "    words = [\"computer\",\"system\",\"mobile\",\"laptop\",\"device\",\"battery\",\"ice\",\"doors\"]\n",
    "    pick = random.choice(words)\n",
    "    return pick\n",
    "def jumble(word):\n",
    "    jumbled = \"\".join(random.sample(word,len(word)))\n",
    "    return jumbled\n",
    "def thank(p1n,p2n,p1,p2):\n",
    "    print(p1n,\"Your Score is: \",p1)\n",
    "    print(p2n,\"Your Score is: \",p2)\n",
    "    print(\"Thank you for playing\")\n",
    "def play():\n",
    "    p1name = input(\"Enter the name of the Player 1: \")\n",
    "    p2name = input(\"Enter the name of the Player 2: \")\n",
    "    pp1 = 0\n",
    "    pp2 = 0\n",
    "    turn = 0\n",
    "    while(1):\n",
    "        picked_word = choose()\n",
    "        qn = jumble(picked_word)\n",
    "        print(\"\\n\\n\\t\\t The Question is: \",qn)\n",
    "        if(turn % 2 == 0):\n",
    "            print(\"\\n\\n\\t\\t\",p2name,\"Your Turn\")\n",
    "            ans = input(\"Enter your answer: \")\n",
    "            if(ans == picked_word):\n",
    "                pp2 = pp2 + 1\n",
    "                print(\"Question was: \",qn)\n",
    "                print(\"Answer given was: \",ans)\n",
    "                print(\"You have given right answer, Congratulations!\")\n",
    "            else:\n",
    "                print(\"Your answer is wrong, Better luck next time!\")\n",
    "                c1 = input(\"Pick 1 to continue or 0 to quit\")\n",
    "                c = int(c1)\n",
    "                if(c == 0):\n",
    "                    thank(p1name,p2name,pp1,pp2)\n",
    "                    break\n",
    "                else:\n",
    "                    print(\"\\n\\n\\t\\t\",p1name,\"Your Turn\")\n",
    "                    ans = input(\"Enter your answer: \")\n",
    "                    if(ans == picked_word):\n",
    "                        pp1 = pp1 + 1\n",
    "                        print(\"Question was: \",qn)\n",
    "                        print(\"Answer given was: \",ans)\n",
    "                        print(\"You have given right answer, Congratulations!\")\n",
    "                    else:\n",
    "                        print(\"Your answer is wrong, Better luck next time!\")\n",
    "                        c1 = input(\"Pick 1 to continue or 0 to quit\")\n",
    "                        c = int(c1)\n",
    "                        if(c == 0):\n",
    "                            thank(p1name,p2name,pp1,pp2)\n",
    "                            break\n",
    "        turn = turn + 1\n",
    "play()\n",
    "                "
   ]
  }
 ],
 "metadata": {
  "kernelspec": {
   "display_name": "Python 3 (ipykernel)",
   "language": "python",
   "name": "python3"
  },
  "language_info": {
   "codemirror_mode": {
    "name": "ipython",
    "version": 3
   },
   "file_extension": ".py",
   "mimetype": "text/x-python",
   "name": "python",
   "nbconvert_exporter": "python",
   "pygments_lexer": "ipython3",
   "version": "3.10.5"
  }
 },
 "nbformat": 4,
 "nbformat_minor": 5
}
